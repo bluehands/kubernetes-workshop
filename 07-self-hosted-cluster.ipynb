{
 "cells": [
  {
   "attachments": {},
   "cell_type": "markdown",
   "metadata": {},
   "source": [
    "### k3s\n",
    "\n",
    "#### Installation\n",
    "https://docs.k3s.io/quick-start\n",
    "```bash\n",
    "curl -sfL https://get.k3s.io | sh -\n",
    "```"
   ]
  }
 ],
 "metadata": {
  "language_info": {
   "name": "python"
  },
  "orig_nbformat": 4
 },
 "nbformat": 4,
 "nbformat_minor": 2
}
