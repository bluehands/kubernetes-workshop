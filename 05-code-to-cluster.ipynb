{
 "cells": [
  {
   "cell_type": "code",
   "execution_count": null,
   "metadata": {
    "dotnet_interactive": {
     "language": "pwsh"
    },
    "polyglot_notebook": {
     "kernelName": "pwsh"
    }
   },
   "outputs": [],
   "source": [
    "helm repo add traefik https://helm.traefik.io/traefik/\n",
    "helm repo update\n",
    "helm install traefik traefik/traefik `\n",
    "    --namespace kube-system"
   ]
  },
  {
   "cell_type": "code",
   "execution_count": null,
   "metadata": {
    "dotnet_interactive": {
     "language": "pwsh"
    },
    "polyglot_notebook": {
     "kernelName": "pwsh"
    }
   },
   "outputs": [],
   "source": [
    "docker build -f ./samples/DemoWeb/Dockerfile ./samples/DemoWeb -t bluehandsworkshop.azurecr.io/demoweb:v0.0.1"
   ]
  },
  {
   "cell_type": "code",
   "execution_count": null,
   "metadata": {
    "dotnet_interactive": {
     "language": "pwsh"
    },
    "polyglot_notebook": {
     "kernelName": "pwsh"
    }
   },
   "outputs": [],
   "source": [
    "docker push bluehandsworkshop.azurecr.io/demoweb:v0.0.1"
   ]
  },
  {
   "cell_type": "code",
   "execution_count": null,
   "metadata": {
    "dotnet_interactive": {
     "language": "pwsh"
    },
    "polyglot_notebook": {
     "kernelName": "pwsh"
    }
   },
   "outputs": [],
   "source": [
    "helm create ./samples/charts/demoweb"
   ]
  },
  {
   "attachments": {},
   "cell_type": "markdown",
   "metadata": {
    "dotnet_interactive": {
     "language": "pwsh"
    },
    "polyglot_notebook": {
     "kernelName": "pwsh"
    }
   },
   "source": [
    "Edit `values.yaml`\n",
    "```yaml\n",
    "image:\n",
    "  repository: bluehandsworkshop.azurecr.io/demoweb\n",
    "  pullPolicy: IfNotPresent\n",
    "  # Overrides the image tag whose default is the chart appVersion.\n",
    "  tag: v0.0.1\n",
    "```\n",
    "...\n",
    "```yaml\n",
    "ingress:\n",
    "  enabled: true\n",
    "  className: \"\"\n",
    "  annotations: {}\n",
    "    # kubernetes.io/ingress.class: nginx\n",
    "    # kubernetes.io/tls-acme: \"true\"\n",
    "  hosts:\n",
    "    - host: localhost\n",
    "      paths:\n",
    "        - path: /\n",
    "          pathType: ImplementationSpecific\n",
    "```"
   ]
  },
  {
   "attachments": {},
   "cell_type": "markdown",
   "metadata": {
    "dotnet_interactive": {
     "language": "pwsh"
    },
    "polyglot_notebook": {
     "kernelName": "pwsh"
    }
   },
   "source": [
    "Note for anonymous access to Azure Container Registries:\n",
    "Only Standard and Premium tiers support anonymous access using the following command\n",
    "```bash\n",
    "az acr update --name myregistry --anonymous-pull-enabled\n",
    "```\n",
    "(see https://learn.microsoft.com/en-us/azure/container-registry/anonymous-pull-access)"
   ]
  },
  {
   "cell_type": "code",
   "execution_count": null,
   "metadata": {
    "dotnet_interactive": {
     "language": "pwsh"
    },
    "polyglot_notebook": {
     "kernelName": "pwsh"
    }
   },
   "outputs": [],
   "source": [
    "helm install demoweb ./samples/charts/demoweb"
   ]
  }
 ],
 "metadata": {
  "kernelspec": {
   "display_name": ".NET (C#)",
   "language": "C#",
   "name": ".net-csharp"
  },
  "polyglot_notebook": {
   "kernelInfo": {
    "defaultKernelName": "csharp",
    "items": [
     {
      "aliases": [
       "c#",
       "C#"
      ],
      "languageName": "C#",
      "name": "csharp"
     },
     {
      "aliases": [
       "frontend"
      ],
      "name": "vscode"
     },
     {
      "aliases": [],
      "languageName": "Mermaid",
      "name": "mermaid"
     },
     {
      "aliases": [],
      "name": ".NET"
     },
     {
      "aliases": [
       "f#",
       "F#"
      ],
      "languageName": "F#",
      "name": "fsharp"
     },
     {
      "aliases": [],
      "languageName": "HTML",
      "name": "html"
     },
     {
      "aliases": [],
      "languageName": "KQL",
      "name": "kql"
     },
     {
      "aliases": [
       "powershell"
      ],
      "languageName": "PowerShell",
      "name": "pwsh"
     },
     {
      "aliases": [],
      "languageName": "SQL",
      "name": "sql"
     },
     {
      "aliases": [],
      "name": "value"
     },
     {
      "aliases": [
       "js"
      ],
      "languageName": "JavaScript",
      "name": "javascript"
     },
     {
      "aliases": [],
      "name": "webview"
     }
    ]
   }
  }
 },
 "nbformat": 4,
 "nbformat_minor": 2
}
